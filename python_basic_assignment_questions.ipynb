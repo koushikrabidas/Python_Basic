{
  "cells": [
    {
      "cell_type": "markdown",
      "id": "9d37ecb4",
      "metadata": {
        "id": "9d37ecb4"
      },
      "source": [
        "1. What is Python, and why is it popular?\n",
        "  - Pyhton is a interpreted programming language and it is popular for it's simplicity, readability and versatility. It has huge library support and also easy to acquire."
      ]
    },
    {
      "cell_type": "markdown",
      "id": "5d285868",
      "metadata": {
        "id": "5d285868"
      },
      "source": [
        "2. What is an interpreter in Python?\n",
        "  - An interpreter in Python is a program that reads and executes the code line by line and also translate into machine understandable."
      ]
    },
    {
      "cell_type": "markdown",
      "id": "5864b0c0",
      "metadata": {
        "id": "5864b0c0"
      },
      "source": [
        "3. What are predefined keywords in Python?\n",
        "  - Predefined keywords in Python are 'True', 'False', 'or', 'and', 'if', 'elif', 'else', 'break', 'continue' etc."
      ]
    },
    {
      "cell_type": "markdown",
      "id": "8367f9b6",
      "metadata": {
        "id": "8367f9b6"
      },
      "source": [
        "4. Can keywords be used as variable names?\n",
        "  - No, Keywords in Python cannot be used as variable, it will give an error."
      ]
    },
    {
      "cell_type": "markdown",
      "id": "def9c24a",
      "metadata": {
        "id": "def9c24a"
      },
      "source": [
        "5. What is mutibility in Python?\n",
        "  - Mutibiliy in Python is that a value of an object can be changed after it is created."
      ]
    },
    {
      "cell_type": "markdown",
      "id": "cace601c",
      "metadata": {
        "id": "cace601c"
      },
      "source": [
        "6. Why are lists mutable, but tuples are immutable?\n",
        "  - Lists are mutable because they are meant to change. Tuples are designed to be constant and unchangeable."
      ]
    },
    {
      "cell_type": "markdown",
      "id": "2629875c",
      "metadata": {
        "id": "2629875c"
      },
      "source": [
        "7. What is the difference between \"==\" and \"is\" operator in Python?\n",
        "  - \"==\" is a comparison operator and \"is\" is a identity operator."
      ]
    },
    {
      "cell_type": "markdown",
      "id": "95f7c489",
      "metadata": {
        "id": "95f7c489"
      },
      "source": [
        "8. What are logical operators in Python?\n",
        "  - Logical operator are \"and\", \"or\" and \"not\"."
      ]
    },
    {
      "cell_type": "markdown",
      "id": "12915390",
      "metadata": {
        "id": "12915390"
      },
      "source": [
        "9. What is type casting in Python?\n",
        "  - Type casting means converting a value from one data type to another data type."
      ]
    },
    {
      "cell_type": "markdown",
      "id": "2e4effcc",
      "metadata": {
        "id": "2e4effcc"
      },
      "source": [
        "10. What is the difference between implicit and explicit type casting?\n",
        "  - Implicit type casting means it changes value of an object automatically but explicit type casting is where value of an object changes manually."
      ]
    },
    {
      "cell_type": "markdown",
      "id": "77e61dfd",
      "metadata": {
        "id": "77e61dfd"
      },
      "source": [
        "11. What is the purpose of conditional statements in Python?\n",
        "  - Conditional statements in Python let the program make decisions. They run certain code only if the condition is true, allowing the program to chose from different actions based on different situations."
      ]
    },
    {
      "cell_type": "markdown",
      "id": "c502422b",
      "metadata": {
        "id": "c502422b"
      },
      "source": [
        "12. How does the elif statement works?\n",
        "  - The elif statement is used when there is needed to check multiple conditions one by one after an intial if condition."
      ]
    },
    {
      "cell_type": "markdown",
      "id": "6597145c",
      "metadata": {
        "id": "6597145c"
      },
      "source": [
        "13. What is the difference between for and while loops?\n",
        "  - For loop is used for iterate over a limited number of times and while is used to iterate until a condition becomes false."
      ]
    },
    {
      "cell_type": "markdown",
      "id": "05bb1725",
      "metadata": {
        "id": "05bb1725"
      },
      "source": [
        "14. Describe a scenario where a while loop is more suitable than a for loop.\n",
        "  - A program that asks user to enter password, until the user enters the correct password the loops continues and after the condition met the loops exits."
      ]
    },
    {
      "cell_type": "markdown",
      "id": "4c3d9698",
      "metadata": {
        "id": "4c3d9698"
      },
      "source": [
        "Practical Questions"
      ]
    },
    {
      "cell_type": "markdown",
      "id": "c167c3da",
      "metadata": {
        "id": "c167c3da"
      },
      "source": [
        "1. Write a Python program to print \"Hello, World!\""
      ]
    },
    {
      "cell_type": "code",
      "execution_count": null,
      "id": "784d4152",
      "metadata": {
        "id": "784d4152",
        "outputId": "b9845146-bfdc-47c3-ee71-39c722282cb0"
      },
      "outputs": [
        {
          "name": "stdout",
          "output_type": "stream",
          "text": [
            "Hello, World!\n"
          ]
        }
      ],
      "source": [
        "print(\"Hello, World!\")"
      ]
    },
    {
      "cell_type": "markdown",
      "id": "8b8386f2",
      "metadata": {
        "id": "8b8386f2"
      },
      "source": [
        "2. Write a Python program that displays your name and age."
      ]
    },
    {
      "cell_type": "code",
      "execution_count": null,
      "id": "84df3fd2",
      "metadata": {
        "id": "84df3fd2",
        "outputId": "93b20332-3e64-4585-a855-0be35769640e"
      },
      "outputs": [
        {
          "name": "stdout",
          "output_type": "stream",
          "text": [
            "My name is Koushik Rabidas and I am 32 years old.\n"
          ]
        }
      ],
      "source": [
        "name = \"Koushik Rabidas\"\n",
        "age = 32\n",
        "print(f\"My name is {name} and I am {age} years old.\")"
      ]
    },
    {
      "cell_type": "markdown",
      "id": "baeba829",
      "metadata": {
        "id": "baeba829"
      },
      "source": [
        "3. Write a code to print all the pre-defined keywords in Python using keyword library."
      ]
    },
    {
      "cell_type": "code",
      "execution_count": null,
      "id": "5bc21add",
      "metadata": {
        "id": "5bc21add",
        "outputId": "1d1ec09d-2c9a-474d-d463-ad3e3191d370"
      },
      "outputs": [
        {
          "name": "stdout",
          "output_type": "stream",
          "text": [
            "['False', 'None', 'True', 'and', 'as', 'assert', 'async', 'await', 'break', 'class', 'continue', 'def', 'del', 'elif', 'else', 'except', 'finally', 'for', 'from', 'global', 'if', 'import', 'in', 'is', 'lambda', 'nonlocal', 'not', 'or', 'pass', 'raise', 'return', 'try', 'while', 'with', 'yield']\n"
          ]
        }
      ],
      "source": [
        "import keyword\n",
        "print(keyword.kwlist)"
      ]
    },
    {
      "cell_type": "markdown",
      "id": "cacb529a",
      "metadata": {
        "id": "cacb529a"
      },
      "source": [
        "4. Write a program that checks if a given word is a Python keyword."
      ]
    },
    {
      "cell_type": "code",
      "execution_count": null,
      "id": "e392708b",
      "metadata": {
        "id": "e392708b",
        "outputId": "4a874526-928f-454c-87b5-d547ae6bb4ef"
      },
      "outputs": [
        {
          "name": "stdout",
          "output_type": "stream",
          "text": [
            "The entered word is not a Python Keyword\n"
          ]
        }
      ],
      "source": [
        "import keyword\n",
        "key_list = keyword.kwlist\n",
        "user = input(\"Enter a word: \")\n",
        "if user in key_list:\n",
        "    print(\"You entered a Python Keyword.\")\n",
        "else:\n",
        "    print(\"The entered word is not a Python Keyword\")"
      ]
    },
    {
      "cell_type": "markdown",
      "id": "f9d65792",
      "metadata": {
        "id": "f9d65792"
      },
      "source": [
        "5. Create a list and tuple in Python, and demonstrate how attempting to change an element works differently for each."
      ]
    },
    {
      "cell_type": "code",
      "execution_count": null,
      "id": "78824e36",
      "metadata": {
        "id": "78824e36",
        "outputId": "877acd33-7edc-4593-b1e5-a85ff98574d0"
      },
      "outputs": [
        {
          "name": "stdout",
          "output_type": "stream",
          "text": [
            "[1, 100, 'Koushik', False, 350, 'pwskills']\n"
          ]
        }
      ],
      "source": [
        "list = [1, 20, \"Koushik\", False, 350, \"pwskills\"]\n",
        "list[1]= 100\n",
        "print(list)"
      ]
    },
    {
      "cell_type": "code",
      "execution_count": null,
      "id": "f9cfa84e",
      "metadata": {
        "id": "f9cfa84e",
        "outputId": "2e532444-773a-496c-9620-97d9c2e49760"
      },
      "outputs": [
        {
          "ename": "TypeError",
          "evalue": "'tuple' object does not support item assignment",
          "output_type": "error",
          "traceback": [
            "\u001b[31m---------------------------------------------------------------------------\u001b[39m",
            "\u001b[31mTypeError\u001b[39m                                 Traceback (most recent call last)",
            "\u001b[36mCell\u001b[39m\u001b[36m \u001b[39m\u001b[32mIn[13]\u001b[39m\u001b[32m, line 2\u001b[39m\n\u001b[32m      1\u001b[39m tup = (\u001b[32m1\u001b[39m, \u001b[32m20\u001b[39m, \u001b[33m\"\u001b[39m\u001b[33mKoushik\u001b[39m\u001b[33m\"\u001b[39m,\u001b[38;5;28;01mFalse\u001b[39;00m, \u001b[32m350\u001b[39m, \u001b[33m\"\u001b[39m\u001b[33mpwskills\u001b[39m\u001b[33m\"\u001b[39m)\n\u001b[32m----> \u001b[39m\u001b[32m2\u001b[39m \u001b[43mtup\u001b[49m\u001b[43m[\u001b[49m\u001b[32;43m1\u001b[39;49m\u001b[43m]\u001b[49m = \u001b[32m100\u001b[39m\n\u001b[32m      3\u001b[39m \u001b[38;5;28mprint\u001b[39m(tup)\n",
            "\u001b[31mTypeError\u001b[39m: 'tuple' object does not support item assignment"
          ]
        }
      ],
      "source": [
        "tup = (1, 20, \"Koushik\",False, 350, \"pwskills\")\n",
        "tup[1] = 100\n",
        "print(tup)\n"
      ]
    },
    {
      "cell_type": "markdown",
      "id": "30cf5cde",
      "metadata": {
        "id": "30cf5cde"
      },
      "source": [
        "6. Write a function to demonstrate the behavior of mutable and immutable arguments."
      ]
    },
    {
      "cell_type": "code",
      "execution_count": null,
      "id": "08e7c34e",
      "metadata": {
        "id": "08e7c34e",
        "outputId": "c6b302f4-6da3-4280-e24c-99578197185f"
      },
      "outputs": [
        {
          "name": "stdout",
          "output_type": "stream",
          "text": [
            "Inside functions:\n",
            "num =  15\n",
            "mylist =  [1, 2, 10, 20, 40]\n",
            "Outside function:\n",
            "num =  10\n",
            "mylist =  [1, 2, 10, 20, 40]\n"
          ]
        }
      ],
      "source": [
        "def arguments(num, mylist):\n",
        "    num = num + 5\n",
        "    mylist.append(40)\n",
        "\n",
        "    print(\"Inside functions:\")\n",
        "    print(\"num = \", num)\n",
        "    print(\"mylist = \", mylist)\n",
        "\n",
        "num = 10\n",
        "mylist = [1,2,10,20]\n",
        "\n",
        "arguments(num, mylist)\n",
        "\n",
        "print(\"Outside function:\")\n",
        "print(\"num = \", num)\n",
        "print(\"mylist = \", mylist)\n",
        "\n"
      ]
    },
    {
      "cell_type": "markdown",
      "id": "c4aee0bc",
      "metadata": {
        "id": "c4aee0bc"
      },
      "source": [
        "7. Write a program that performs basic arithmetic operations on two user-input numbers."
      ]
    },
    {
      "cell_type": "code",
      "execution_count": null,
      "id": "f561b0e4",
      "metadata": {
        "id": "f561b0e4",
        "outputId": "695355c3-5675-45a3-d29c-d834252295ef"
      },
      "outputs": [
        {
          "name": "stdout",
          "output_type": "stream",
          "text": [
            "Result: 0\n"
          ]
        }
      ],
      "source": [
        "num1 = int(input(\"Enter number 1: \"))\n",
        "num2 = int(input(\"Enter number 2: \"))\n",
        "# print(\"Choose an operator: +, -, *, /\")\n",
        "operator = input(\"Enter operator from +, -, *, /: \")\n",
        "\n",
        "if operator == \"+\":\n",
        "    result = num1 + num2\n",
        "    print(f\"Result: {result}\")\n",
        "elif operator == \"-\":\n",
        "    result = num1 - num2\n",
        "    print(f\"Result: {result}\")\n",
        "elif operator == \"*\":\n",
        "    result = num1 * num2\n",
        "    print(f\"Result: {result}\")\n",
        "elif operator == \"/\":\n",
        "    if num2 !=0:\n",
        "        result = num1 / num2\n",
        "        print(f\"Result: {result}\")\n",
        "    else:\n",
        "        print(\"Can't divide with a zero\")\n",
        "else:\n",
        "    print(\"Invalid operator\")\n",
        "\n",
        "\n"
      ]
    },
    {
      "cell_type": "markdown",
      "id": "6b25b413",
      "metadata": {
        "id": "6b25b413"
      },
      "source": [
        "8. Write a program to demonstrate the use of logical operators"
      ]
    },
    {
      "cell_type": "code",
      "execution_count": null,
      "id": "b1344bd2",
      "metadata": {
        "id": "b1344bd2",
        "outputId": "f9c20c47-d6e5-4ec2-8b9d-40af44e08e29"
      },
      "outputs": [
        {
          "name": "stdout",
          "output_type": "stream",
          "text": [
            "You are allowed to enter.\n",
            "At least one condition is true.\n"
          ]
        }
      ],
      "source": [
        "age = int(input(\"Enter your age: \"))\n",
        "has_id = input(\"Do you have a valid ID? (yes/no): \").lower()\n",
        "\n",
        "\n",
        "if age >= 18 and has_id == \"yes\":\n",
        "    print(\"You are allowed to enter.\")\n",
        "else:\n",
        "    print(\"Entry not allowed.\")\n",
        "\n",
        "if age >= 18 or has_id == \"yes\":\n",
        "    print(\"At least one condition is true.\")\n",
        "\n",
        "if not (has_id == \"yes\"):\n",
        "    print(\"You don't have an ID.\")\n"
      ]
    },
    {
      "cell_type": "markdown",
      "id": "353dbf99",
      "metadata": {
        "id": "353dbf99"
      },
      "source": [
        "9. Write a Python program to convert user input from string to integer, float, and boolean types."
      ]
    },
    {
      "cell_type": "code",
      "execution_count": null,
      "id": "ae3801ba",
      "metadata": {
        "id": "ae3801ba",
        "outputId": "224a84de-59f0-4fbb-b8fc-1a66ccfa60b8"
      },
      "outputs": [
        {
          "name": "stdout",
          "output_type": "stream",
          "text": [
            "5\n",
            "<class 'str'>\n",
            "5\n",
            "<class 'int'>\n",
            "5.0\n",
            "<class 'float'>\n",
            "True\n",
            "<class 'bool'>\n"
          ]
        }
      ],
      "source": [
        "user = input(\"Enter here: \")\n",
        "print(user)\n",
        "print(type(user))\n",
        "\n",
        "user= int(user)\n",
        "print(user)\n",
        "print(type(user))\n",
        "\n",
        "user = float(user)\n",
        "print(user)\n",
        "print(type(user))\n",
        "\n",
        "user = bool(user)\n",
        "print(user)\n",
        "print(type(user))\n"
      ]
    },
    {
      "cell_type": "markdown",
      "id": "d2c5fe7c",
      "metadata": {
        "id": "d2c5fe7c"
      },
      "source": [
        "10. Write code to demonstrate type casting with list elements."
      ]
    },
    {
      "cell_type": "code",
      "execution_count": null,
      "id": "55ff2101",
      "metadata": {
        "id": "55ff2101"
      },
      "outputs": [],
      "source": [
        "str_list = ['10', '20', '30', '40']\n",
        "\n",
        "int_list = []\n",
        "\n",
        "for item in str_list:\n",
        "    num = int(item)\n",
        "    int_list.append(num)\n",
        "\n",
        "print(\"Original list (strings):\", str_list)\n",
        "print(\"After type casting to integers:\", int_list)\n"
      ]
    },
    {
      "cell_type": "markdown",
      "id": "3724bdbd",
      "metadata": {
        "id": "3724bdbd"
      },
      "source": [
        "11. Write a program that checks if a number is positive, negative or zero."
      ]
    },
    {
      "cell_type": "code",
      "execution_count": null,
      "id": "1f11b65b",
      "metadata": {
        "id": "1f11b65b",
        "outputId": "6bdec049-aa2e-4aa8-8328-6dee0b4da5be"
      },
      "outputs": [
        {
          "name": "stdout",
          "output_type": "stream",
          "text": [
            "-5 is a negative number.\n"
          ]
        }
      ],
      "source": [
        "num = int(input(\"Enter a number: \"))\n",
        "\n",
        "if num >0:\n",
        "    print(f\"{num} is positive number.\")\n",
        "elif num < 0:\n",
        "    print(f\"{num} is a negative number.\")\n",
        "else:\n",
        "    print(f\"{num} is a zero.\")"
      ]
    },
    {
      "cell_type": "markdown",
      "id": "a2bf237c",
      "metadata": {
        "id": "a2bf237c"
      },
      "source": [
        "12. Write a for loop to print numbers  from 1 to 10."
      ]
    },
    {
      "cell_type": "code",
      "execution_count": null,
      "id": "9c4bac75",
      "metadata": {
        "id": "9c4bac75",
        "outputId": "02098c77-07ee-43c1-b17c-912c5628be6d"
      },
      "outputs": [
        {
          "name": "stdout",
          "output_type": "stream",
          "text": [
            "0\n",
            "1\n",
            "2\n",
            "3\n",
            "4\n",
            "5\n",
            "6\n",
            "7\n",
            "8\n",
            "9\n",
            "10\n"
          ]
        }
      ],
      "source": [
        "for i in range(11):\n",
        "    print(i)"
      ]
    },
    {
      "cell_type": "markdown",
      "id": "a9ce7a95",
      "metadata": {
        "id": "a9ce7a95"
      },
      "source": [
        "13. Write a Python program to find the sum of all even number between 1 and 50."
      ]
    },
    {
      "cell_type": "code",
      "execution_count": null,
      "id": "bb61f7be",
      "metadata": {
        "id": "bb61f7be",
        "outputId": "5df07d73-b121-4432-a13b-0cedcd586ae9"
      },
      "outputs": [
        {
          "name": "stdout",
          "output_type": "stream",
          "text": [
            "the sum of all even number is 650\n"
          ]
        }
      ],
      "source": [
        "total = 0\n",
        "for i in range(1,51):\n",
        "    if i % 2 == 0:\n",
        "        total = total + i\n",
        "\n",
        "print(f\"the sum of all even number is {total}\")"
      ]
    },
    {
      "cell_type": "markdown",
      "id": "c5f38ca3",
      "metadata": {
        "id": "c5f38ca3"
      },
      "source": [
        "14. Write a program to reverse a string  using a while loop."
      ]
    },
    {
      "cell_type": "code",
      "execution_count": null,
      "id": "b2f4dd4d",
      "metadata": {
        "id": "b2f4dd4d",
        "outputId": "f8e02f3c-1009-4b7b-d060-80e8877004b5"
      },
      "outputs": [
        {
          "name": "stdout",
          "output_type": "stream",
          "text": [
            "Reversed name is kihsuok\n"
          ]
        }
      ],
      "source": [
        "user_input = input(\"Enter your name: \")\n",
        "\n",
        "reversed_name = \"\"\n",
        "index = len(user_input)-1\n",
        "\n",
        "while index>=0:\n",
        "    reversed_name = reversed_name + user_input[index]\n",
        "    index -= 1\n",
        "\n",
        "print(f\"Reversed name is {reversed_name}\")\n"
      ]
    },
    {
      "cell_type": "markdown",
      "id": "09e855c4",
      "metadata": {
        "id": "09e855c4"
      },
      "source": [
        "15. Write a Python program to calculate the factorial of a number provided by the user using a while loop."
      ]
    },
    {
      "cell_type": "code",
      "execution_count": null,
      "id": "8c16ef8e",
      "metadata": {
        "id": "8c16ef8e",
        "outputId": "5278a8bd-d893-4e3c-9fc0-2513bfe9f45f"
      },
      "outputs": [
        {
          "name": "stdout",
          "output_type": "stream",
          "text": [
            "Factorial of 1 is 120\n"
          ]
        }
      ],
      "source": [
        "num = int(input(\"Enter a number: \"))\n",
        "\n",
        "fact = 1\n",
        "\n",
        "while num>1:\n",
        "    fact *= num\n",
        "    num -= 1\n",
        "\n",
        "print(f\"Factorial of {num} is {fact}\")"
      ]
    }
  ],
  "metadata": {
    "kernelspec": {
      "display_name": "Python 3",
      "language": "python",
      "name": "python3"
    },
    "language_info": {
      "codemirror_mode": {
        "name": "ipython",
        "version": 3
      },
      "file_extension": ".py",
      "mimetype": "text/x-python",
      "name": "python",
      "nbconvert_exporter": "python",
      "pygments_lexer": "ipython3",
      "version": "3.13.2"
    },
    "colab": {
      "provenance": []
    }
  },
  "nbformat": 4,
  "nbformat_minor": 5
}